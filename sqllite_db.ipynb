{
 "cells": [
  {
   "cell_type": "markdown",
   "metadata": {},
   "source": [
    "## Create SQLlite DB with  Child Protection Authority Data Sri lanka"
   ]
  },
  {
   "cell_type": "markdown",
   "metadata": {},
   "source": [
    "Source URL :https://childprotection.gov.lk/index.php/en/resource-centre/statistics-3          \n",
    "\n",
    "Date : 2024/03/03 10:50 PM\n",
    "\n",
    "Google Doc: https://docs.google.com/document/d/1C8UagshZ-ONi5hA8lBPyZfO62zoRQtqnvLgXiQpSwaU/edit?usp=sharing"
   ]
  },
  {
   "cell_type": "code",
   "execution_count": 12,
   "metadata": {},
   "outputs": [],
   "source": [
    "import sqlite3\n",
    "\n",
    "conn = sqlite3.connect('Casereport.db')\n",
    "\n",
    "cursor = conn.cursor()\n"
   ]
  },
  {
   "cell_type": "code",
   "execution_count": 7,
   "metadata": {},
   "outputs": [
    {
     "name": "stdout",
     "output_type": "stream",
     "text": [
      "Collecting sqlalchemy\n",
      "  Downloading SQLAlchemy-2.0.28-cp310-cp310-win_amd64.whl (2.1 MB)\n",
      "     ---------------------------------------- 2.1/2.1 MB 6.0 MB/s eta 0:00:00\n",
      "Collecting typing-extensions>=4.6.0\n",
      "  Using cached typing_extensions-4.10.0-py3-none-any.whl (33 kB)\n",
      "Collecting greenlet!=0.4.17\n",
      "  Downloading greenlet-3.0.3-cp310-cp310-win_amd64.whl (292 kB)\n",
      "     -------------------------------------- 292.3/292.3 KB 4.5 MB/s eta 0:00:00\n",
      "Installing collected packages: typing-extensions, greenlet, sqlalchemy\n",
      "  Attempting uninstall: typing-extensions\n",
      "    Found existing installation: typing_extensions 4.4.0\n",
      "    Uninstalling typing_extensions-4.4.0:\n",
      "      Successfully uninstalled typing_extensions-4.4.0\n",
      "Successfully installed greenlet-3.0.3 sqlalchemy-2.0.28 typing-extensions-4.10.0\n"
     ]
    },
    {
     "name": "stderr",
     "output_type": "stream",
     "text": [
      "WARNING: You are using pip version 22.0.4; however, version 24.0 is available.\n",
      "You should consider upgrading via the 'C:\\Python310\\python.exe -m pip install --upgrade pip' command.\n"
     ]
    }
   ],
   "source": [
    "!pip install sqlalchemy"
   ]
  },
  {
   "cell_type": "code",
   "execution_count": 9,
   "metadata": {},
   "outputs": [
    {
     "name": "stdout",
     "output_type": "stream",
     "text": [
      "Collecting ipython-sql\n",
      "  Using cached ipython_sql-0.5.0-py3-none-any.whl (20 kB)\n",
      "Collecting sqlparse\n",
      "  Using cached sqlparse-0.4.4-py3-none-any.whl (41 kB)\n",
      "Collecting prettytable\n",
      "  Downloading prettytable-3.10.0-py3-none-any.whl (28 kB)\n",
      "Requirement already satisfied: six in c:\\users\\sdwee\\appdata\\roaming\\python\\python310\\site-packages (from ipython-sql) (1.16.0)\n",
      "Collecting ipython-genutils\n",
      "  Using cached ipython_genutils-0.2.0-py2.py3-none-any.whl (26 kB)\n",
      "Requirement already satisfied: ipython in c:\\users\\sdwee\\appdata\\roaming\\python\\python310\\site-packages (from ipython-sql) (8.14.0)\n",
      "Requirement already satisfied: sqlalchemy>=2.0 in c:\\python310\\lib\\site-packages (from ipython-sql) (2.0.28)\n",
      "Requirement already satisfied: greenlet!=0.4.17 in c:\\python310\\lib\\site-packages (from sqlalchemy>=2.0->ipython-sql) (3.0.3)\n",
      "Requirement already satisfied: typing-extensions>=4.6.0 in c:\\python310\\lib\\site-packages (from sqlalchemy>=2.0->ipython-sql) (4.10.0)\n",
      "Requirement already satisfied: backcall in c:\\users\\sdwee\\appdata\\roaming\\python\\python310\\site-packages (from ipython->ipython-sql) (0.2.0)\n",
      "Requirement already satisfied: colorama in c:\\users\\sdwee\\appdata\\roaming\\python\\python310\\site-packages (from ipython->ipython-sql) (0.4.6)\n",
      "Requirement already satisfied: pygments>=2.4.0 in c:\\users\\sdwee\\appdata\\roaming\\python\\python310\\site-packages (from ipython->ipython-sql) (2.15.1)\n",
      "Requirement already satisfied: decorator in c:\\users\\sdwee\\appdata\\roaming\\python\\python310\\site-packages (from ipython->ipython-sql) (5.1.1)\n",
      "Requirement already satisfied: matplotlib-inline in c:\\users\\sdwee\\appdata\\roaming\\python\\python310\\site-packages (from ipython->ipython-sql) (0.1.6)\n",
      "Requirement already satisfied: jedi>=0.16 in c:\\users\\sdwee\\appdata\\roaming\\python\\python310\\site-packages (from ipython->ipython-sql) (0.18.2)\n",
      "Requirement already satisfied: traitlets>=5 in c:\\users\\sdwee\\appdata\\roaming\\python\\python310\\site-packages (from ipython->ipython-sql) (5.9.0)\n",
      "Requirement already satisfied: prompt-toolkit!=3.0.37,<3.1.0,>=3.0.30 in c:\\users\\sdwee\\appdata\\roaming\\python\\python310\\site-packages (from ipython->ipython-sql) (3.0.39)\n",
      "Requirement already satisfied: stack-data in c:\\users\\sdwee\\appdata\\roaming\\python\\python310\\site-packages (from ipython->ipython-sql) (0.6.2)\n",
      "Requirement already satisfied: pickleshare in c:\\users\\sdwee\\appdata\\roaming\\python\\python310\\site-packages (from ipython->ipython-sql) (0.7.5)\n",
      "Requirement already satisfied: wcwidth in c:\\users\\sdwee\\appdata\\roaming\\python\\python310\\site-packages (from prettytable->ipython-sql) (0.2.6)\n",
      "Requirement already satisfied: parso<0.9.0,>=0.8.0 in c:\\users\\sdwee\\appdata\\roaming\\python\\python310\\site-packages (from jedi>=0.16->ipython->ipython-sql) (0.8.3)\n",
      "Requirement already satisfied: executing>=1.2.0 in c:\\users\\sdwee\\appdata\\roaming\\python\\python310\\site-packages (from stack-data->ipython->ipython-sql) (1.2.0)\n",
      "Requirement already satisfied: pure-eval in c:\\users\\sdwee\\appdata\\roaming\\python\\python310\\site-packages (from stack-data->ipython->ipython-sql) (0.2.2)\n",
      "Requirement already satisfied: asttokens>=2.1.0 in c:\\users\\sdwee\\appdata\\roaming\\python\\python310\\site-packages (from stack-data->ipython->ipython-sql) (2.2.1)\n",
      "Installing collected packages: ipython-genutils, sqlparse, prettytable, ipython-sql\n"
     ]
    },
    {
     "name": "stderr",
     "output_type": "stream",
     "text": [
      "  WARNING: Failed to write executable - trying to use .deleteme logic\n",
      "ERROR: Could not install packages due to an OSError: [WinError 2] The system cannot find the file specified: 'C:\\\\Python310\\\\Scripts\\\\sqlformat.exe' -> 'C:\\\\Python310\\\\Scripts\\\\sqlformat.exe.deleteme'\n",
      "\n",
      "WARNING: You are using pip version 22.0.4; however, version 24.0 is available.\n",
      "You should consider upgrading via the 'C:\\Python310\\python.exe -m pip install --upgrade pip' command.\n"
     ]
    }
   ],
   "source": [
    "!pip install ipython-sql"
   ]
  },
  {
   "cell_type": "code",
   "execution_count": 4,
   "metadata": {
    "vscode": {
     "languageId": "sql"
    }
   },
   "outputs": [
    {
     "data": {
      "text/plain": [
       "<sqlite3.Cursor at 0x152d5df2640>"
      ]
     },
     "execution_count": 4,
     "metadata": {},
     "output_type": "execute_result"
    }
   ],
   "source": [
    "cursor.execute('''\n",
    "Create  Table if not exists ReporCasesbyDistrict(\n",
    "    Year INTEGER Primary key,\n",
    "    District TEXT,\n",
    "    No_of_Cases INTEGER\n",
    ")\n",
    "''')"
   ]
  },
  {
   "cell_type": "code",
   "execution_count": 6,
   "metadata": {},
   "outputs": [
    {
     "data": {
      "text/plain": [
       "<sqlite3.Cursor at 0x152d5df2640>"
      ]
     },
     "execution_count": 6,
     "metadata": {},
     "output_type": "execute_result"
    }
   ],
   "source": [
    "cursor.execute('''\n",
    "ALTER TABLE ReporCasesbyDistrict RENAME TO ReportedCasesbyDistrict\n",
    "''')"
   ]
  },
  {
   "cell_type": "code",
   "execution_count": null,
   "metadata": {},
   "outputs": [],
   "source": [
    "cursor.execute('''\n",
    "\n",
    "''')"
   ]
  },
  {
   "cell_type": "code",
   "execution_count": null,
   "metadata": {
    "vscode": {
     "languageId": "sql"
    }
   },
   "outputs": [],
   "source": [
    "select * from ReportedCasesbyDistrict;"
   ]
  },
  {
   "cell_type": "code",
   "execution_count": 16,
   "metadata": {
    "vscode": {
     "languageId": "sql"
    }
   },
   "outputs": [
    {
     "data": {
      "text/plain": [
       "<sqlite3.Cursor at 0x152d74f8ac0>"
      ]
     },
     "execution_count": 16,
     "metadata": {},
     "output_type": "execute_result"
    }
   ],
   "source": [
    "cursor.execute('''\n",
    "    select * from ReportedCasesbyDistrict;\n",
    "''')"
   ]
  }
 ],
 "metadata": {
  "kernelspec": {
   "display_name": "base",
   "language": "python",
   "name": "python3"
  },
  "language_info": {
   "codemirror_mode": {
    "name": "ipython",
    "version": 3
   },
   "file_extension": ".py",
   "mimetype": "text/x-python",
   "name": "python",
   "nbconvert_exporter": "python",
   "pygments_lexer": "ipython3",
   "version": "3.10.4"
  }
 },
 "nbformat": 4,
 "nbformat_minor": 2
}
